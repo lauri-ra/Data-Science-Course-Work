{
 "cells": [
  {
   "cell_type": "markdown",
   "metadata": {},
   "source": [
    "# Joda HT"
   ]
  },
  {
   "cell_type": "markdown",
   "metadata": {},
   "source": [
    "### Useful links\n",
    "\n",
    "Spotify offers very clear documentation on how to work with their API. \n",
    "[Spotify API Documentation](https://developer.spotify.com/)\n",
    "\n",
    "Console page lets you test making requests \n",
    "[API Console](https://developer.spotify.com/console/)\n",
    "\n",
    "Quick guide on how to use the API: [Guide](https://stmorse.github.io/journal/spotify-api.html)\n",
    "\n",
    "Config file includes the Client ID and Secret variables that should be kept private. These are needed in order to access the API.\n",
    "\n",
    "If you want to run this notebook yourself: \n",
    "- you need a spotify account (free or premium, doesn't matter)\n",
    "- sign in on https://developer.spotify.com/\n",
    "- Go to Dashboard -> Create an app -> The app page will show the ID and Secret that you need to save to the config file"
   ]
  },
  {
   "cell_type": "code",
   "execution_count": null,
   "metadata": {},
   "outputs": [],
   "source": [
    "!pip install pandas\n",
    "!pip install matplotlib\n",
    "\n",
    "import config\n",
    "import requests\n",
    "import pandas as pd\n",
    "import matplotlib.pyplot as plt"
   ]
  },
  {
   "cell_type": "markdown",
   "metadata": {},
   "source": [
    "### Fetch and save data from the Spotify API"
   ]
  },
  {
   "cell_type": "code",
   "execution_count": 54,
   "metadata": {},
   "outputs": [],
   "source": [
    "#Get client data from the config file\n",
    "clientID = config.clientID\n",
    "clientSEC = config.clientSEC\n",
    "\n",
    "# Get the token with post request\n",
    "tokenURL = 'https://accounts.spotify.com/api/token'\n",
    "\n",
    "response = requests.post(tokenURL, {\n",
    "    'grant_type': 'client_credentials',\n",
    "    'client_id': clientID,\n",
    "    'client_secret': clientSEC,\n",
    "})\n",
    "\n",
    "responseData = response.json()\n",
    "token = responseData['access_token']\n",
    "\n",
    "#Information for the get request\n",
    "baseURL = 'https://api.spotify.com/v1/'\n",
    "playlistID = '37i9dQZF1DX18jTM2l2fJY'\n",
    "\n",
    "headers = {\n",
    "    'Authorization': 'Bearer {token}'.format(token=token)\n",
    "}\n",
    "\n",
    "#Get the top 2021 playlist\n",
    "top2021 = requests.get(baseURL + 'playlists/' + playlistID, headers=headers)\n",
    "top2021 = top2021.json()\n",
    "tracks = top2021[\"tracks\"][\"items\"]\n",
    "\n",
    "stuff = []\n",
    "\n",
    "#Save song data from the get request\n",
    "for item in tracks:\n",
    "    #Get basic track info\n",
    "    artist = item[\"track\"][\"artists\"][0][\"name\"]\n",
    "    track = item[\"track\"][\"name\"]\n",
    "    album = item[\"track\"][\"album\"][\"name\"]\n",
    "    popularity = item['track']['popularity']\n",
    "\n",
    "    #Get audio features\n",
    "    songID = item[\"track\"][\"id\"]\n",
    "    songData = requests.get(baseURL + 'audio-features?ids=' + songID, headers=headers)\n",
    "    songData =  songData.json()\n",
    "    features = songData[\"audio_features\"][0]\n",
    "\n",
    "    features.update({\n",
    "    'artist': artist,\n",
    "    'track': track, \n",
    "    'album': album,\n",
    "    'popularity': popularity\n",
    "    })\n",
    "\n",
    "    stuff.append(features)\n",
    "\n",
    "df = pd.DataFrame(stuff)\n",
    "df.to_csv('data.csv')\n",
    "\n"
   ]
  },
  {
   "cell_type": "markdown",
   "metadata": {},
   "source": [
    "### Clean the data"
   ]
  },
  {
   "cell_type": "code",
   "execution_count": 62,
   "metadata": {},
   "outputs": [
    {
     "data": {
      "text/html": [
       "<div>\n",
       "<style scoped>\n",
       "    .dataframe tbody tr th:only-of-type {\n",
       "        vertical-align: middle;\n",
       "    }\n",
       "\n",
       "    .dataframe tbody tr th {\n",
       "        vertical-align: top;\n",
       "    }\n",
       "\n",
       "    .dataframe thead th {\n",
       "        text-align: right;\n",
       "    }\n",
       "</style>\n",
       "<table border=\"1\" class=\"dataframe\">\n",
       "  <thead>\n",
       "    <tr style=\"text-align: right;\">\n",
       "      <th></th>\n",
       "      <th>danceability</th>\n",
       "      <th>energy</th>\n",
       "      <th>key</th>\n",
       "      <th>loudness</th>\n",
       "      <th>mode</th>\n",
       "      <th>speechiness</th>\n",
       "      <th>acousticness</th>\n",
       "      <th>instrumentalness</th>\n",
       "      <th>liveness</th>\n",
       "      <th>valence</th>\n",
       "      <th>beats per minute</th>\n",
       "      <th>duration(min)</th>\n",
       "      <th>artist</th>\n",
       "      <th>track</th>\n",
       "      <th>album</th>\n",
       "      <th>popularity</th>\n",
       "    </tr>\n",
       "  </thead>\n",
       "  <tbody>\n",
       "    <tr>\n",
       "      <th>0</th>\n",
       "      <td>0.561</td>\n",
       "      <td>0.431</td>\n",
       "      <td>10</td>\n",
       "      <td>-8.810</td>\n",
       "      <td>1</td>\n",
       "      <td>0.0578</td>\n",
       "      <td>0.76800</td>\n",
       "      <td>0.000014</td>\n",
       "      <td>0.1060</td>\n",
       "      <td>0.137</td>\n",
       "      <td>143.875</td>\n",
       "      <td>4.033550</td>\n",
       "      <td>Olivia Rodrigo</td>\n",
       "      <td>drivers license</td>\n",
       "      <td>SOUR</td>\n",
       "      <td>88</td>\n",
       "    </tr>\n",
       "    <tr>\n",
       "      <th>1</th>\n",
       "      <td>0.593</td>\n",
       "      <td>0.503</td>\n",
       "      <td>8</td>\n",
       "      <td>-6.725</td>\n",
       "      <td>0</td>\n",
       "      <td>0.2200</td>\n",
       "      <td>0.29300</td>\n",
       "      <td>0.000000</td>\n",
       "      <td>0.4050</td>\n",
       "      <td>0.710</td>\n",
       "      <td>178.781</td>\n",
       "      <td>2.295067</td>\n",
       "      <td>Lil Nas X</td>\n",
       "      <td>MONTERO (Call Me By Your Name)</td>\n",
       "      <td>MONTERO</td>\n",
       "      <td>84</td>\n",
       "    </tr>\n",
       "    <tr>\n",
       "      <th>2</th>\n",
       "      <td>0.591</td>\n",
       "      <td>0.764</td>\n",
       "      <td>1</td>\n",
       "      <td>-5.484</td>\n",
       "      <td>1</td>\n",
       "      <td>0.0483</td>\n",
       "      <td>0.03830</td>\n",
       "      <td>0.000000</td>\n",
       "      <td>0.1030</td>\n",
       "      <td>0.478</td>\n",
       "      <td>169.928</td>\n",
       "      <td>2.363433</td>\n",
       "      <td>The Kid LAROI</td>\n",
       "      <td>STAY (with Justin Bieber)</td>\n",
       "      <td>F*CK LOVE 3: OVER YOU</td>\n",
       "      <td>88</td>\n",
       "    </tr>\n",
       "    <tr>\n",
       "      <th>3</th>\n",
       "      <td>0.563</td>\n",
       "      <td>0.664</td>\n",
       "      <td>9</td>\n",
       "      <td>-5.044</td>\n",
       "      <td>1</td>\n",
       "      <td>0.1540</td>\n",
       "      <td>0.33500</td>\n",
       "      <td>0.000000</td>\n",
       "      <td>0.0849</td>\n",
       "      <td>0.688</td>\n",
       "      <td>166.928</td>\n",
       "      <td>2.969117</td>\n",
       "      <td>Olivia Rodrigo</td>\n",
       "      <td>good 4 u</td>\n",
       "      <td>SOUR</td>\n",
       "      <td>91</td>\n",
       "    </tr>\n",
       "    <tr>\n",
       "      <th>4</th>\n",
       "      <td>0.702</td>\n",
       "      <td>0.825</td>\n",
       "      <td>6</td>\n",
       "      <td>-3.787</td>\n",
       "      <td>0</td>\n",
       "      <td>0.0601</td>\n",
       "      <td>0.00883</td>\n",
       "      <td>0.000000</td>\n",
       "      <td>0.0674</td>\n",
       "      <td>0.915</td>\n",
       "      <td>102.977</td>\n",
       "      <td>3.384400</td>\n",
       "      <td>Dua Lipa</td>\n",
       "      <td>Levitating (feat. DaBaby)</td>\n",
       "      <td>Future Nostalgia</td>\n",
       "      <td>85</td>\n",
       "    </tr>\n",
       "  </tbody>\n",
       "</table>\n",
       "</div>"
      ],
      "text/plain": [
       "   danceability  energy  key  loudness  mode  speechiness  acousticness  \\\n",
       "0         0.561   0.431   10    -8.810     1       0.0578       0.76800   \n",
       "1         0.593   0.503    8    -6.725     0       0.2200       0.29300   \n",
       "2         0.591   0.764    1    -5.484     1       0.0483       0.03830   \n",
       "3         0.563   0.664    9    -5.044     1       0.1540       0.33500   \n",
       "4         0.702   0.825    6    -3.787     0       0.0601       0.00883   \n",
       "\n",
       "   instrumentalness  liveness  valence  beats per minute  duration(min)  \\\n",
       "0          0.000014    0.1060    0.137           143.875       4.033550   \n",
       "1          0.000000    0.4050    0.710           178.781       2.295067   \n",
       "2          0.000000    0.1030    0.478           169.928       2.363433   \n",
       "3          0.000000    0.0849    0.688           166.928       2.969117   \n",
       "4          0.000000    0.0674    0.915           102.977       3.384400   \n",
       "\n",
       "           artist                           track                  album  \\\n",
       "0  Olivia Rodrigo                 drivers license                   SOUR   \n",
       "1       Lil Nas X  MONTERO (Call Me By Your Name)                MONTERO   \n",
       "2   The Kid LAROI       STAY (with Justin Bieber)  F*CK LOVE 3: OVER YOU   \n",
       "3  Olivia Rodrigo                        good 4 u                   SOUR   \n",
       "4        Dua Lipa       Levitating (feat. DaBaby)       Future Nostalgia   \n",
       "\n",
       "   popularity  \n",
       "0          88  \n",
       "1          84  \n",
       "2          88  \n",
       "3          91  \n",
       "4          85  "
      ]
     },
     "execution_count": 62,
     "metadata": {},
     "output_type": "execute_result"
    }
   ],
   "source": [
    "df = pd.read_csv('data.csv')\n",
    "\n",
    "# Rename columns to be more descriptive\n",
    "df.rename(columns={'tempo' : 'beats per minute', 'duration_ms' : 'duration(min)'}, inplace=True)\n",
    "\n",
    "# Remove columns that are not needed\n",
    "cols_to_remove=['Unnamed: 0', 'type', 'id', 'uri', 'track_href', 'analysis_url', 'time_signature']\n",
    "data = df.drop(cols_to_remove,axis=1)\n",
    "\n",
    "# Change track length from ms to minutes\n",
    "for i in data['duration(min)']:\n",
    "    length = i / 60000\n",
    "    data['duration(min)'].replace({i : length}, inplace=True)\n",
    "\n",
    "data.head()"
   ]
  },
  {
   "cell_type": "markdown",
   "metadata": {},
   "source": [
    "### Data Visualization"
   ]
  },
  {
   "cell_type": "code",
   "execution_count": 80,
   "metadata": {},
   "outputs": [
    {
     "data": {
      "text/plain": [
       "<AxesSubplot:title={'center':'Amount of tracks each artist has'}, xlabel='artist'>"
      ]
     },
     "execution_count": 80,
     "metadata": {},
     "output_type": "execute_result"
    },
    {
     "data": {
      "image/png": "[encoded data removed]",
      "text/plain": [
       "<Figure size 1080x504 with 1 Axes>"
      ]
     },
     "metadata": {
      "needs_background": "light"
     },
     "output_type": "display_data"
    }
   ],
   "source": [
    "plt.figure(figsize=(15,7))\n",
    "plt.title(\"Amount of tracks each artist has\", fontsize=25)\n",
    "\n",
    "data.groupby('artist')['track'].agg(len).sort_values(ascending = False).plot(kind = 'bar')"
   ]
  },
  {
   "cell_type": "code",
   "execution_count": 85,
   "metadata": {},
   "outputs": [
    {
     "ename": "ValueError",
     "evalue": "scatter requires an x and y column",
     "output_type": "error",
     "traceback": [
      "\u001b[0;31m---------------------------------------------------------------------------\u001b[0m",
      "\u001b[0;31mValueError\u001b[0m                                Traceback (most recent call last)",
      "\u001b[1;32m/home/lauri/Projects/JODA/HT/JodaHT_Spotify.ipynb Cell 10'\u001b[0m in \u001b[0;36m<cell line: 2>\u001b[0;34m()\u001b[0m\n\u001b[1;32m      <a href='vscode-notebook-cell:/home/lauri/Projects/JODA/HT/JodaHT_Spotify.ipynb#ch0000009?line=0'>1</a>\u001b[0m plt\u001b[39m.\u001b[39msubplots()\n\u001b[0;32m----> <a href='vscode-notebook-cell:/home/lauri/Projects/JODA/HT/JodaHT_Spotify.ipynb#ch0000009?line=1'>2</a>\u001b[0m data\u001b[39m.\u001b[39;49mplot(kind\u001b[39m=\u001b[39;49m\u001b[39m'\u001b[39;49m\u001b[39mscatter\u001b[39;49m\u001b[39m'\u001b[39;49m)\n",
      "File \u001b[0;32m~/.local/lib/python3.8/site-packages/pandas/plotting/_core.py:917\u001b[0m, in \u001b[0;36mPlotAccessor.__call__\u001b[0;34m(self, *args, **kwargs)\u001b[0m\n\u001b[1;32m    <a href='file:///home/lauri/.local/lib/python3.8/site-packages/pandas/plotting/_core.py?line=914'>915</a>\u001b[0m \u001b[39mif\u001b[39;00m kind \u001b[39min\u001b[39;00m \u001b[39mself\u001b[39m\u001b[39m.\u001b[39m_dataframe_kinds:\n\u001b[1;32m    <a href='file:///home/lauri/.local/lib/python3.8/site-packages/pandas/plotting/_core.py?line=915'>916</a>\u001b[0m     \u001b[39mif\u001b[39;00m \u001b[39misinstance\u001b[39m(data, ABCDataFrame):\n\u001b[0;32m--> <a href='file:///home/lauri/.local/lib/python3.8/site-packages/pandas/plotting/_core.py?line=916'>917</a>\u001b[0m         \u001b[39mreturn\u001b[39;00m plot_backend\u001b[39m.\u001b[39;49mplot(data, x\u001b[39m=\u001b[39;49mx, y\u001b[39m=\u001b[39;49my, kind\u001b[39m=\u001b[39;49mkind, \u001b[39m*\u001b[39;49m\u001b[39m*\u001b[39;49mkwargs)\n\u001b[1;32m    <a href='file:///home/lauri/.local/lib/python3.8/site-packages/pandas/plotting/_core.py?line=917'>918</a>\u001b[0m     \u001b[39melse\u001b[39;00m:\n\u001b[1;32m    <a href='file:///home/lauri/.local/lib/python3.8/site-packages/pandas/plotting/_core.py?line=918'>919</a>\u001b[0m         \u001b[39mraise\u001b[39;00m \u001b[39mValueError\u001b[39;00m(\u001b[39mf\u001b[39m\u001b[39m\"\u001b[39m\u001b[39mplot kind \u001b[39m\u001b[39m{\u001b[39;00mkind\u001b[39m}\u001b[39;00m\u001b[39m can only be used for data frames\u001b[39m\u001b[39m\"\u001b[39m)\n",
      "File \u001b[0;32m~/.local/lib/python3.8/site-packages/pandas/plotting/_matplotlib/__init__.py:70\u001b[0m, in \u001b[0;36mplot\u001b[0;34m(data, kind, **kwargs)\u001b[0m\n\u001b[1;32m     <a href='file:///home/lauri/.local/lib/python3.8/site-packages/pandas/plotting/_matplotlib/__init__.py?line=67'>68</a>\u001b[0m             ax \u001b[39m=\u001b[39m plt\u001b[39m.\u001b[39mgca()\n\u001b[1;32m     <a href='file:///home/lauri/.local/lib/python3.8/site-packages/pandas/plotting/_matplotlib/__init__.py?line=68'>69</a>\u001b[0m         kwargs[\u001b[39m\"\u001b[39m\u001b[39max\u001b[39m\u001b[39m\"\u001b[39m] \u001b[39m=\u001b[39m \u001b[39mgetattr\u001b[39m(ax, \u001b[39m\"\u001b[39m\u001b[39mleft_ax\u001b[39m\u001b[39m\"\u001b[39m, ax)\n\u001b[0;32m---> <a href='file:///home/lauri/.local/lib/python3.8/site-packages/pandas/plotting/_matplotlib/__init__.py?line=69'>70</a>\u001b[0m plot_obj \u001b[39m=\u001b[39m PLOT_CLASSES[kind](data, \u001b[39m*\u001b[39;49m\u001b[39m*\u001b[39;49mkwargs)\n\u001b[1;32m     <a href='file:///home/lauri/.local/lib/python3.8/site-packages/pandas/plotting/_matplotlib/__init__.py?line=70'>71</a>\u001b[0m plot_obj\u001b[39m.\u001b[39mgenerate()\n\u001b[1;32m     <a href='file:///home/lauri/.local/lib/python3.8/site-packages/pandas/plotting/_matplotlib/__init__.py?line=71'>72</a>\u001b[0m plot_obj\u001b[39m.\u001b[39mdraw()\n",
      "File \u001b[0;32m~/.local/lib/python3.8/site-packages/pandas/plotting/_matplotlib/core.py:1065\u001b[0m, in \u001b[0;36mScatterPlot.__init__\u001b[0;34m(self, data, x, y, s, c, **kwargs)\u001b[0m\n\u001b[1;32m   <a href='file:///home/lauri/.local/lib/python3.8/site-packages/pandas/plotting/_matplotlib/core.py?line=1062'>1063</a>\u001b[0m \u001b[39melif\u001b[39;00m is_hashable(s) \u001b[39mand\u001b[39;00m s \u001b[39min\u001b[39;00m data\u001b[39m.\u001b[39mcolumns:\n\u001b[1;32m   <a href='file:///home/lauri/.local/lib/python3.8/site-packages/pandas/plotting/_matplotlib/core.py?line=1063'>1064</a>\u001b[0m     s \u001b[39m=\u001b[39m data[s]\n\u001b[0;32m-> <a href='file:///home/lauri/.local/lib/python3.8/site-packages/pandas/plotting/_matplotlib/core.py?line=1064'>1065</a>\u001b[0m \u001b[39msuper\u001b[39;49m()\u001b[39m.\u001b[39;49m\u001b[39m__init__\u001b[39;49m(data, x, y, s\u001b[39m=\u001b[39;49ms, \u001b[39m*\u001b[39;49m\u001b[39m*\u001b[39;49mkwargs)\n\u001b[1;32m   <a href='file:///home/lauri/.local/lib/python3.8/site-packages/pandas/plotting/_matplotlib/core.py?line=1065'>1066</a>\u001b[0m \u001b[39mif\u001b[39;00m is_integer(c) \u001b[39mand\u001b[39;00m \u001b[39mnot\u001b[39;00m \u001b[39mself\u001b[39m\u001b[39m.\u001b[39mdata\u001b[39m.\u001b[39mcolumns\u001b[39m.\u001b[39mholds_integer():\n\u001b[1;32m   <a href='file:///home/lauri/.local/lib/python3.8/site-packages/pandas/plotting/_matplotlib/core.py?line=1066'>1067</a>\u001b[0m     c \u001b[39m=\u001b[39m \u001b[39mself\u001b[39m\u001b[39m.\u001b[39mdata\u001b[39m.\u001b[39mcolumns[c]\n",
      "File \u001b[0;32m~/.local/lib/python3.8/site-packages/pandas/plotting/_matplotlib/core.py:986\u001b[0m, in \u001b[0;36mPlanePlot.__init__\u001b[0;34m(self, data, x, y, **kwargs)\u001b[0m\n\u001b[1;32m    <a href='file:///home/lauri/.local/lib/python3.8/site-packages/pandas/plotting/_matplotlib/core.py?line=983'>984</a>\u001b[0m MPLPlot\u001b[39m.\u001b[39m\u001b[39m__init__\u001b[39m(\u001b[39mself\u001b[39m, data, \u001b[39m*\u001b[39m\u001b[39m*\u001b[39mkwargs)\n\u001b[1;32m    <a href='file:///home/lauri/.local/lib/python3.8/site-packages/pandas/plotting/_matplotlib/core.py?line=984'>985</a>\u001b[0m \u001b[39mif\u001b[39;00m x \u001b[39mis\u001b[39;00m \u001b[39mNone\u001b[39;00m \u001b[39mor\u001b[39;00m y \u001b[39mis\u001b[39;00m \u001b[39mNone\u001b[39;00m:\n\u001b[0;32m--> <a href='file:///home/lauri/.local/lib/python3.8/site-packages/pandas/plotting/_matplotlib/core.py?line=985'>986</a>\u001b[0m     \u001b[39mraise\u001b[39;00m \u001b[39mValueError\u001b[39;00m(\u001b[39mself\u001b[39m\u001b[39m.\u001b[39m_kind \u001b[39m+\u001b[39m \u001b[39m\"\u001b[39m\u001b[39m requires an x and y column\u001b[39m\u001b[39m\"\u001b[39m)\n\u001b[1;32m    <a href='file:///home/lauri/.local/lib/python3.8/site-packages/pandas/plotting/_matplotlib/core.py?line=986'>987</a>\u001b[0m \u001b[39mif\u001b[39;00m is_integer(x) \u001b[39mand\u001b[39;00m \u001b[39mnot\u001b[39;00m \u001b[39mself\u001b[39m\u001b[39m.\u001b[39mdata\u001b[39m.\u001b[39mcolumns\u001b[39m.\u001b[39mholds_integer():\n\u001b[1;32m    <a href='file:///home/lauri/.local/lib/python3.8/site-packages/pandas/plotting/_matplotlib/core.py?line=987'>988</a>\u001b[0m     x \u001b[39m=\u001b[39m \u001b[39mself\u001b[39m\u001b[39m.\u001b[39mdata\u001b[39m.\u001b[39mcolumns[x]\n",
      "\u001b[0;31mValueError\u001b[0m: scatter requires an x and y column"
     ]
    },
    {
     "data": {
      "image/png": "[encoded data removed]",
      "text/plain": [
       "<Figure size 432x288 with 1 Axes>"
      ]
     },
     "metadata": {
      "needs_background": "light"
     },
     "output_type": "display_data"
    }
   ],
   "source": [
    "plt.subplots()\n",
    "data.plot(kind='scatter')\n",
    "##data.plot.scatter(x = 'energy', y = 'danceability')"
   ]
  }
 ],
 "metadata": {
  "interpreter": {
   "hash": "72da474b9fd3a7f1e1839808d125eed4583092ae29eeca0e8a75e4d51dfaf98b"
  },
  "kernelspec": {
   "display_name": "Python 3.9.7 ('base')",
   "language": "python",
   "name": "python3"
  },
  "language_info": {
   "codemirror_mode": {
    "name": "ipython",
    "version": 3
   },
   "file_extension": ".py",
   "mimetype": "text/x-python",
   "name": "python",
   "nbconvert_exporter": "python",
   "pygments_lexer": "ipython3",
   "version": "3.8.10"
  },
  "orig_nbformat": 4
 },
 "nbformat": 4,
 "nbformat_minor": 2
}
