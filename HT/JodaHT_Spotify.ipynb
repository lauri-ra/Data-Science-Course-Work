{
 "cells": [
  {
   "cell_type": "markdown",
   "metadata": {},
   "source": [
    "# Joda HT"
   ]
  },
  {
   "cell_type": "markdown",
   "metadata": {},
   "source": [
    "### Useful links\n",
    "\n",
    "Spotify offers very clear documentation on how to work with their API. \n",
    "[Spotify API Documentation](https://developer.spotify.com/)\n",
    "\n",
    "Console page lets you test making requests \n",
    "[API Console](https://developer.spotify.com/console/)\n",
    "\n",
    "Quick guide on how to use the API: [Guide](https://stmorse.github.io/journal/spotify-api.html)\n",
    "\n",
    "Config file includes the Client ID and Secret variables that should be kept private. These are needed in order to access the API.\n",
    "\n",
    "If you want to run this notebook yourself: \n",
    "- you need a spotify account (free or premium, doesn't matter)\n",
    "- sign in on https://developer.spotify.com/\n",
    "- Go to Dashboard -> Create an app -> The app page will show the ID and Secret that you need to save to the config file"
   ]
  },
  {
   "cell_type": "markdown",
   "metadata": {},
   "source": [
    "### Fetch and save data from the Spotify API"
   ]
  },
  {
   "cell_type": "code",
   "execution_count": 1,
   "metadata": {},
   "outputs": [],
   "source": [
    "import config\n",
    "import requests\n",
    "import csv\n",
    "\n",
    "#Get client data from the config file\n",
    "clientID = config.clientID\n",
    "clientSEC = config.clientSEC\n",
    "\n",
    "# Get the token with post request\n",
    "tokenURL = 'https://accounts.spotify.com/api/token'\n",
    "\n",
    "response = requests.post(tokenURL, {\n",
    "    'grant_type': 'client_credentials',\n",
    "    'client_id': clientID,\n",
    "    'client_secret': clientSEC,\n",
    "})\n",
    "\n",
    "responseData = response.json()\n",
    "token = responseData['access_token']\n",
    "\n",
    "#Information for the get request\n",
    "baseURL = 'https://api.spotify.com/v1/'\n",
    "playlistID = '37i9dQZEVXbNG2KDcFcKOF'\n",
    "\n",
    "headers = {\n",
    "    'Authorization': 'Bearer {token}'.format(token=token)\n",
    "}\n",
    "\n",
    "#Get the top 50 weekly playlist\n",
    "top50 = requests.get(baseURL + 'playlists/' + playlistID, headers=headers)\n",
    "top50 = top50.json()\n",
    "items = top50[\"tracks\"][\"items\"]\n",
    "\n",
    "#Create the csv file, add column names\n",
    "file = open('data.csv', 'w')\n",
    "columns = [\"Artist\", \"Track\", \"Album\", \"URI\"]\n",
    "writer = csv.writer(file)\n",
    "writer.writerow(columns)\n",
    "\n",
    "#Save song data from the get request to the csv file\n",
    "for item in items:\n",
    "    artist = item[\"track\"][\"artists\"][0][\"name\"]\n",
    "    track = item[\"track\"][\"name\"]\n",
    "    album = item[\"track\"][\"album\"][\"name\"]\n",
    "    uri = item[\"track\"][\"uri\"]\n",
    "\n",
    "    writer = csv.writer(file)\n",
    "    data = [artist, track, album, uri]\n",
    "    writer.writerow(data)\n",
    "\n",
    "file.close()\n",
    "    \n"
   ]
  }
 ],
 "metadata": {
  "interpreter": {
   "hash": "72da474b9fd3a7f1e1839808d125eed4583092ae29eeca0e8a75e4d51dfaf98b"
  },
  "kernelspec": {
   "display_name": "Python 3.9.7 ('base')",
   "language": "python",
   "name": "python3"
  },
  "language_info": {
   "codemirror_mode": {
    "name": "ipython",
    "version": 3
   },
   "file_extension": ".py",
   "mimetype": "text/x-python",
   "name": "python",
   "nbconvert_exporter": "python",
   "pygments_lexer": "ipython3",
   "version": "3.9.7"
  },
  "orig_nbformat": 4
 },
 "nbformat": 4,
 "nbformat_minor": 2
}
