{
 "cells": [
  {
   "cell_type": "markdown",
   "id": "3879e015-4d8a-4b98-a7e4-def5acf976a7",
   "metadata": {},
   "source": [
    "# Datan kerääminen ja jalostaminen\n",
    "\n",
    "- ei raakadataa, siivoaminen/jalostaminen välittää omaa maailmankuvaa dataan, muokataan muotoon josta sen pitäisi kertoa\n",
    "- tehdään asioita mitä ei olla ennen tehty, kysytään kysymyksiä asioista mitä ei tiedetä (DAD)\n",
    "- raportointia, operatiivista toimintaa (ETL)\n",
    "- exploration vs exploitation\n",
    "- uuden oppiminen (datatiede) vs vanhan hyödyntäminen"
   ]
  },
  {
   "cell_type": "markdown",
   "id": "640a6917",
   "metadata": {},
   "source": [
    "Minkälaisia datalähteitä on olemassa?\n",
    "Miten dataa kerätään käytännössä?\n",
    "Miten ohjelmointirajapintoja ja ruudunraavintaa hyödynnetään keräämisessä?\n",
    "Mitä seikkoja datan keräämisessä on otettava huomioon?\n",
    "Mitä on laadukas data koneoppimiseen perustuvassa datatieteessä?"
   ]
  },
  {
   "cell_type": "markdown",
   "id": "53040b18",
   "metadata": {},
   "source": [
    "Kartoittava, Kuvaileva, Ennustava, Ohjaava analytiikka\n",
    "\n",
    "Crawler, Scraper\n",
    "- perustuu rakenteiden tunnistamiseen verkkosivuilta\n",
    "- hakukoneet\n",
    "- etsii sivuja, tallentaa sivujen sisällön, seurataan linkkejä\n",
    "- raapijoilla voidaan tallentaa tietoa, kuten esim dokumenttien rakenteita, taulukoiden sisältöjä yms.\n",
    "- Esim finnkinon sivustolta href attribuutti joka sisältää linkin"
   ]
  },
  {
   "cell_type": "markdown",
   "id": "11b15e90-4f94-465a-b88f-8045d3f56066",
   "metadata": {},
   "source": [
    "Web scraping: the act of automatically downloading a web page's data and extracting very specific information from it. The extracted information can be stored pretty much anywhere (database, file, etc.).\n",
    "\n",
    "Web crawling: the act of automatically downloading a web page's data, extracting the hyperlinks it contains and following them. The downloaded data is generally stored in an index or a database to make it easily searchable."
   ]
  }
 ],
 "metadata": {
  "kernelspec": {
   "display_name": "Python 3 (ipykernel)",
   "language": "python",
   "name": "python3"
  },
  "language_info": {
   "codemirror_mode": {
    "name": "ipython",
    "version": 3
   },
   "file_extension": ".py",
   "mimetype": "text/x-python",
   "name": "python",
   "nbconvert_exporter": "python",
   "pygments_lexer": "ipython3",
   "version": "3.9.7"
  }
 },
 "nbformat": 4,
 "nbformat_minor": 5
}
