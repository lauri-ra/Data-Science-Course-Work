{
 "cells": [
  {
   "cell_type": "markdown",
   "id": "53040b18",
   "metadata": {},
   "source": [
    "# Luentopäiväkirja 2\n",
    "\n",
    "## Datan kerääminen ja jalostaminen\n",
    "\n",
    "Osallistuin viikon opetukseen katsomalla varsinaisen luennon videotallenteet sekä demon panoptosta. \n",
    "\n",
    "Päiväkirjan teossa käytettyä aineistoa:\n",
    "- [Luento 2] (https://github.com/InfoTUNI/joda2022/blob/master/luentomuistio/luento02.ipynb)\n",
    "- [Demo 2] (https://github.com/InfoTUNI/joda2022/blob/master/koodiesimerkit/Session%202%20-%20Crawlers%20and%20Scrapers.ipynb)\n",
    "\n",
    "## Viikon keskeiset asiat\n",
    "\n",
    "**Datan keräämisen prosessin voi jakaa neljään osaan:**\n",
    "- Datan valmistelu\n",
    "- Analyysi\n",
    "- Reflektio\n",
    "- Tuotanto\n",
    "\n",
    "Datatiedetiimi tekee prosessin aikana yhteistyötä muiden asiaan liittyvien tahojen kanssa. Tutkimusysymys ja varsinainen data jaolstuvat jatkuvasti prosessin aikana. Suurin osa työstä kohdistuukin datan jalostamiseen (n. 80% työstä, loput 20% analyysiin). Analyysi ja reflektio ovat kumpikin iteratiivisa vaiheita, joita toistetaan datan ymmärtämiseksi paremmin. Lopulta jalostettua tietoa käsitellään ja siitä pyritään tuottamaan tuloksia. Tulokset voivat olla esimerkiksi päätökseen johtavaa uutta tietoa tai konkreettista koodia.\n",
    "\n",
    "Datatieteen prosessissa **DAD** (Discover, Access, Distill) keskitytään datan tutkimiseen. Siinä keskitytään siis asiohin, joita ei ole tehty ennen ja pyritään löytämään tuntemattomia vastauksia kysymyksiin. Olennaista prosessissa on ***uuden oppiminen***.\n",
    "\n",
    "**ETL** (Extract, Load, Transfrom) prosessi puolestaan keskityy datan prosessointiin ja datan vakiomuotoistamiseen. Prosessi on DAD verrattuna pitkä-aikaisempi ja vakiomuotoisempi. Olennaista prosesissa on saadun ***tiedon hyädyntöminen***.\n",
    "\n",
    "**Data-analytiikan neljä keskeista osa-aluetta:**\n",
    "- **Diagnosoiva**: Selvitetään miksi jokin ilmiö on tapahtunut. Voi olla diagnoosia ennustavasta analyysistä.\n",
    "- **Kuvaileva** : Kuvaillaan ilmiöitä datan avulla, kerrotaan mitä on tapahtunut.\n",
    "- **Ennustava**: Ennustetaan tulevia tapahtumia, datasta koitetaan luoda ennusteita tulevaisuuteen.\n",
    "- **Ohjaava**: Keskitytään siihen mitä kannattaa tehdä. Aktiivista ohjaamista kohti toimintaa (esim. mitä tuotteita asiakkalle tarjotaan).\n",
    "\n",
    "Dataa voidaan ostaa, ladata tai kerätä eri keinoin. Raapijat ja ryömijät ovat yksi tällainen keino. Niiden toiminta perustuu rakenteiden tunnistamiseen verkkosivuilta, tiedon tallentamiseen ja linkkien seuraamiseen.\n",
    "\n",
    "Käytännössä raapijat keräävät tietoa verkkosivujen rakenteesta. Raapijat tunnistavat toistuvista rakenteista tietoa, jota halutaaan tallentaa. Esim. verkkokauppojen tuotteiden arvosteluita voidaan tallentaa tiettyjen HTML-tagien tai tunnisteiden alta. Raapijoista eroten ryömijät eivät varsinaisesti keskity tietyn datan keräämiseen. Ne seuraavat sivustolta löytyviä linkkejä eteenpäin ja indeksoivat sivustoja tietokantaan. Esimerkiksi hakukoneiden toiminta perustuu pitkälti ryömijöiden toimintaan. Dataa voidaan myös kerätä API-ohjelmoinnin keinoin. Ilmaisten ja maksullisten rajapintojen avulla voidaan päästä käsiksi dataan vaikkapa säätiedoista.\n",
    "\n",
    "Datan jalostamisella tarkoitetaan kerätyn datan muuntamista muotoon, jossa sitä voidaan hyödyntää analyysissä. Kaikki kerätty data ei esimerkiksi ole tarpeellista tai tarpeeksi laadukasta analyysiin. Niin sanottua raakadataa ei kuitenkaan ole olemassa. Siistimällä vastaus \"ulos\" raakadatasta, siihen heijastetaan samalla omaa mailmankuvaa ja uskomuksia. Dataa siis muokataan oletun tai halutun vastauksen perusteella. Analyysiprosessi vaikuttaa siihen vastaukseen, mikä datasta lopulta löydetään.\n",
    "\n",
    "Viikolla oli mielenkiintoista huomata, kuinka usealla eri tavalla ja näkökulmalla dataa voidaan lähteä jalostamaan. Mielestäni luennolta sai hyvän kokonaiskuvan datan keräämisen ja käsittelyn prosessista. Teknisempään päätyyn syventyvää raapijoita ja ryömijöitä käsittelevää demoa oli kiinnostava seurata ja nähdä miten tiedon kerääminen käytännössä tapahtuu. Data-analytiikan neljästä eri osa-alueesta sai pohjustusta tulevaa harjoitustyötä varten. Työn rungon silmäilyn perusteella se vaikuittaisi sisältävän jokaisen osa-alueen ainakin jossain määrin. \n",
    "\n",
    "## Viisi oivallusta\n",
    "- Dataa voidaan kerätä useilla eri menetelmillä (raapijat, ryömijät, api)\n",
    "- Dataa voidaan analysoida useista lähtökohdista (esim. tutkiva vs. toimntaan ohjaava)\n",
    "- Datan laadulla merkitystä\n",
    "- Raakadataa ei olemassa\n",
    "- Analyysiprosessilla vaikutus datasta saatavaan vastaukseen\n",
    "\n",
    "## Kehityskohteet\n",
    "- Luennon alussa käytiin aika pitkään läpi asioita joita tullaan käymään läpi. Toki kertaaminen ei koskaan pahasta.\n",
    "\n",
    "\n",
    "## Koodidemo"
   ]
  }
 ],
 "metadata": {
  "interpreter": {
   "hash": "7fa34090cb7af4223176c3ba8ae08a175f6370c1b6c642f4e551f736b02987b0"
  },
  "kernelspec": {
   "display_name": "Python 3.9.7 ('base')",
   "language": "python",
   "name": "python3"
  },
  "language_info": {
   "codemirror_mode": {
    "name": "ipython",
    "version": 3
   },
   "file_extension": ".py",
   "mimetype": "text/x-python",
   "name": "python",
   "nbconvert_exporter": "python",
   "pygments_lexer": "ipython3",
   "version": "3.9.7"
  }
 },
 "nbformat": 4,
 "nbformat_minor": 5
}
