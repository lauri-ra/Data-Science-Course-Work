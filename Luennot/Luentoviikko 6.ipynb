{
 "cells": [
  {
   "cell_type": "markdown",
   "metadata": {},
   "source": [
    "# Luentopäiväkirja 6\n",
    "\n",
    "## Ohjaamaton koneoppiminen\n",
    "\n",
    "Osallistuin viikon opetukseen katsomalla varsinaisen luennon videotallenteet sekä demon panoptosta. \n",
    "\n",
    "Päiväkirjan teossa käytettyä aineistoa:\n",
    "- [Luento 6] (https://github.com/InfoTUNI/joda2022/blob/master/luentomuistio/luento06.ipynb)\n",
    "- [Demo 5] (https://github.com/InfoTUNI/joda2022/blob/master/koodiesimerkit/Session%205%20-%20Text%20Processing%20and%20Clustering.ipynb)\n",
    "- [K-means klusterointi] (https://youtu.be/yR7k19YBqiw)\n",
    "\n",
    "### Viikon keskeiset asiat\n",
    "\n",
    "Ohjatun oppimisen tapaan ohjaamattomassa oppimisessa korostuu käsiteltävän datan esikäsittely ja normalisointi. Puuttuvat arvot tulee täydentää ja yksiköt muutettava samaan muotoon. Muutoin ohjaamattomassa oppimisessa käytettävät menetelmät eivät ole mahdollisia toteuttaa. Esimerkiksi K-means klusterointi on mahdollista vain numeerisilla muuttujilla.\n",
    "\n",
    "**Keskeisiä menetelmiä**: Klusterointi/Ryvästäminen, Ostoskorianalyysi, Aihemallinnus, Verkostoanalyysi\n",
    "\n",
    "Ryvästäminen/Klusterointi on yksi ohjaamattoman koneoppimisen menetelmä, jossa data on jaettuna pistejoukoiksi (ryppäiksi.Ryppäät tunnistetaan asettamalla joukko keskipisteitä jaetun datan sekaan. Menetelmän tavoitteena on keskipisteiden avulla muodostaa luokkia dataan tunnistamalla ne pisteet, jotka ovat keskimäärin lähinnä toisiaan. \n",
    "\n",
    "K-means algoritmin avulla asetetaan ryppäille keskipisteitä ja lasketaan niistä etäisyyksiä muihin pisteisiin. Pisteet jaetaan kutakin keskipistettä lähinnä olevaan pistejoukkoon. Tätä prosessia toistetaan kunnes keskipisteiden sijainnit eivät enää muutu. Vaikka kyseessä onkin ohjaamattoman koneoppimisen menetelmä, vaatii se kuitenkin hieman käyttäjän ohjausta klustereiden lukumäärän (K) valinnassa. Klustereiden lukumäärä riippuu aineistoin tyypistä.\n",
    "\n",
    "Aihemallinnus on toinen ohjaamattoman oppimisen menetelmä. Sen toiminta perustuu aiheipiirien löytämiseen laajoista tekstiaineistoista. \n",
    "\n",
    "**Lähilukeminen**: Tutkija / ryhmä lukee ja analysoi aineistoa manuaalisesti. Kaikkea ei voida käydä läpi, vaan aineistoa voidaan esimerkiksi luokitella eri tavoin, jotta saadaan tarpeeksi kattava läpileikkaus.\n",
    "\n",
    "**Etälukeminen**: Aineisto käydään läpi tietokoneen avulla. Tunnistetaan yksittäisiä käsitteitä ja niiden välisiä yhteyksiä aihekokonaisuuksien tunnistamiseksi.\n",
    "\n",
    "Menetelmän lopputuloksena muodostetaan matriisi, jossa käsitteitä ja dokumentteja on mallinnettu ristiin. Muodostetun mallin perusteella voidaan tunnistaa mihin dokumenttiin tietyt käsitteet liittyvät. Vastaavasti dokumentin perusteella voidaan tunnistaa mitä käsitteitä se sisältää. Myös aihemallinnuksessa datan esikäsittely on olennaista. Tekstikokoelmista tehdään käyttökelpoisia analyysiin esimerkiksi poistamalla joukosta ylimääräisiä sanoja tai muuttamalla sanamuotoja. \n",
    "\n",
    "K-means klusterointi oli itselleni aikasemmin tuttu menetelmä, mutta mielestäni tällä luennolla sen toimintaperiaate tuli paremmin selkeäksi.\n",
    "\n",
    "### Viisi oivallusta\n",
    "\n",
    "### Kehityskohteet\n",
    "\n",
    "### Koodidemo"
   ]
  },
  {
   "cell_type": "code",
   "execution_count": 1,
   "metadata": {},
   "outputs": [
    {
     "data": {
      "text/html": [
       "<div>\n",
       "<style scoped>\n",
       "    .dataframe tbody tr th:only-of-type {\n",
       "        vertical-align: middle;\n",
       "    }\n",
       "\n",
       "    .dataframe tbody tr th {\n",
       "        vertical-align: top;\n",
       "    }\n",
       "\n",
       "    .dataframe thead th {\n",
       "        text-align: right;\n",
       "    }\n",
       "</style>\n",
       "<table border=\"1\" class=\"dataframe\">\n",
       "  <thead>\n",
       "    <tr style=\"text-align: right;\">\n",
       "      <th></th>\n",
       "      <th>text</th>\n",
       "      <th>rating</th>\n",
       "    </tr>\n",
       "  </thead>\n",
       "  <tbody>\n",
       "    <tr>\n",
       "      <th>0</th>\n",
       "      <td>i got the phone, had it shipped all the way  a...</td>\n",
       "      <td>3.0</td>\n",
       "    </tr>\n",
       "    <tr>\n",
       "      <th>1</th>\n",
       "      <td>got 2nd phone requirements:didn't want to spen...</td>\n",
       "      <td>5.0</td>\n",
       "    </tr>\n",
       "    <tr>\n",
       "      <th>2</th>\n",
       "      <td>i bought this phone back when i had at&amp;t's pre...</td>\n",
       "      <td>5.0</td>\n",
       "    </tr>\n",
       "    <tr>\n",
       "      <th>3</th>\n",
       "      <td>there are too many things wrong to name them a...</td>\n",
       "      <td>2.0</td>\n",
       "    </tr>\n",
       "    <tr>\n",
       "      <th>4</th>\n",
       "      <td>really nice phone for the money. the phone is ...</td>\n",
       "      <td>4.0</td>\n",
       "    </tr>\n",
       "  </tbody>\n",
       "</table>\n",
       "</div>"
      ],
      "text/plain": [
       "                                                text  rating\n",
       "0  i got the phone, had it shipped all the way  a...     3.0\n",
       "1  got 2nd phone requirements:didn't want to spen...     5.0\n",
       "2  i bought this phone back when i had at&t's pre...     5.0\n",
       "3  there are too many things wrong to name them a...     2.0\n",
       "4  really nice phone for the money. the phone is ...     4.0"
      ]
     },
     "execution_count": 1,
     "metadata": {},
     "output_type": "execute_result"
    }
   ],
   "source": [
    "import pandas as pd\n",
    "\n",
    "data = pd.read_json('https://raw.githubusercontent.com/InfoTUNI/joda2022/master/koodiesimerkit/out.json')\n",
    "\n",
    "data['text'] = data['text'].apply(str.lower)\n",
    "\n",
    "conv_rating = lambda rating: float(rating[:2])\n",
    "data['rating'] = data['rating'].apply(conv_rating)\n",
    "\n",
    "data.head(5)"
   ]
  }
 ],
 "metadata": {
  "interpreter": {
   "hash": "7fa34090cb7af4223176c3ba8ae08a175f6370c1b6c642f4e551f736b02987b0"
  },
  "kernelspec": {
   "display_name": "Python 3.9.7 ('base')",
   "language": "python",
   "name": "python3"
  },
  "language_info": {
   "codemirror_mode": {
    "name": "ipython",
    "version": 3
   },
   "file_extension": ".py",
   "mimetype": "text/x-python",
   "name": "python",
   "nbconvert_exporter": "python",
   "pygments_lexer": "ipython3",
   "version": "3.9.7"
  },
  "orig_nbformat": 4
 },
 "nbformat": 4,
 "nbformat_minor": 2
}
