{
 "cells": [
  {
   "cell_type": "markdown",
   "metadata": {},
   "source": [
    "Data Engineer\n",
    "- putkimies, data liikkuu paikasta A paikkaan B, jotta sitä voidaan käsitellä\n",
    "\n",
    "Train vs Test\n",
    "- Hyvä olla erillinen neutraali testidata, jota malli ei ole vielä nähnyt. Harjoitusdatan malli on jo nähnyt, joten se osaa ennustaa tulemat. Testidatalla mallin toimintaa voi testata, sillä sitä malli ei ole nähnyt\n",
    "- Saman train datan läpikäynti liian useaan kertaan -> erikoistuminen, ylioppiminen datasettiin\n",
    "- balanssi riittävän oppimisen ja ylioppimisen välillä\n",
    "\n",
    "NLP\n",
    "- suomen kieli haaste\n",
    "- kahden ylim. sanan poistot -> myös lyhenteet kuten EU poistuvat"
   ]
  }
 ],
 "metadata": {
  "language_info": {
   "name": "python"
  },
  "orig_nbformat": 4
 },
 "nbformat": 4,
 "nbformat_minor": 2
}
