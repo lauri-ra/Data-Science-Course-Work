{
 "cells": [
  {
   "cell_type": "markdown",
   "metadata": {},
   "source": [
    "# Luentoviikko 5\n",
    "\n",
    "Osallistuin viikolla vierailijaluennolle sekä katsoin demon panoptosta. \n",
    "\n",
    "Päiväkirjan teossa käytettyä aineistoa:\n",
    "- [Luento] (https://github.com/MikkonenTS/Futurice-Joda)\n",
    "- [Viikon demo] (https://github.com/InfoTUNI/joda2022/blob/master/koodiesimerkit/Session%205%20-%20Text%20Processing%20and%20Clustering.ipynb)\n",
    "\n",
    "## Futurice vierailuluento - luonnollisen kielen analyysi\n",
    "\n",
    "Vierailuluennon aiheena oli luonnollisen kielen analyysi, eli NLP (Natural Language Processing). Kyseessä on datatieteen erityisala, jossa käytettävä data on luonnollinen kieli. Usein NLP on osa jotain suurempaa kokonaisuutta, sitä voidaan käyttää esimerkiksi piirteiden erottamiseen.\n",
    "\n",
    "Haastavaa luonnollisen kielen käsittelystä tekee sen rakennettomuus. Esimerkiksi suomen kieli sisältää useita lyhyitä kahden merkin pituisia sanoja. Lyhenteitä, kuten \"EU\" poistettaessa on vaarana, että seasta poistuu myös tekstin kontekstin kannalta oleellisia sanoja. Prosessissa on siis hyvin keskeistä datan (eli  kielen) muokkaaminen käsiteltävään, numeeriseen muotoon.\n",
    "\n",
    "Luenolla esitetyssä demossa luokiteltiin ministerien antamia vastauksia kirjallisiin kysymyksiin. \n",
    "\n",
    "Tekstikokoelma jaettiin opetus- ja testausdataan. Koneoppimismalleja käytettäessä on hyvä olla erillinen neutraali testidata, jota malli ei ole vielä nähnyt. Mallin harjoittamisessa käytettävän opetusdatan malli on jo nähnyt, joten se osaa ennustaa mahdollisia tulemia. Testidatalla mallin toimintaa voi testata, sillä sitä malli ei ole nähnyt entuudestaan. Mallien testaamisessa on pidettävä sopiva tasapaino. Saman testausdatan käyttö saatta johtaa tilanteeseen, jossa se ylioppii / erikoistuu tiettyyn dataan.\n",
    "\n",
    "Esikäsittelyssä data muunnettin mutoon, jossa sitä voidaan hyödyntää koneoppimismallien opetuksessa. Kokoelmaa standardoitiin esim. poistamalla erikoismerkit ja muuntamalla sanat perusmuotoon. Lisäksi vastauksia sisältävästä kokoelmasta suodatettiin pois ylimääräiset \"hukkasanat\", joilla ei ole dataprojektin kannalta arvoa.\n",
    "\n",
    "Koulutetun ja testatun koneoppimismallin avulla kokoelman vastauksia liitettiin tiettyyn ministeriöön. Tämän ohella osumalle laskettiin vielä todennäköisyys. Demottu malli osasi ennustaa tekstin ja ministeriön välisiä suhteita tarkasti.\n",
    "\n",
    "### Viisi oivallusta\n",
    "- Luonnollisen kielen rakennettomuus haastavaa, erityisesti suomen kielen rakenteessa\n",
    "- NLP korostuu myös datan esikäsittelyn tärkeys\n",
    "- Datan jakaminen opetus- ja testiosiin olennainen osa koneoppimismallien käyttöä\n",
    "- Koneoppimismallin ylioppimista / erikoistumista vältettävä\n",
    "- NLP usein osa suurempaa kokonaisuutta, käytetään esim. piirteiden erottamiseen\n",
    "\n",
    "\n",
    "### Kehityskohteita\n",
    "- Olisi hienoa, jos vastaavia vierailuluentoja pääsisi mahdollisesti katsomaan livenä kampukselle tai yritysten toimitiloihin\n",
    "\n",
    "### Koodidemo"
   ]
  },
  {
   "cell_type": "code",
   "execution_count": 5,
   "metadata": {},
   "outputs": [
    {
     "data": {
      "text/html": [
       "<div>\n",
       "<style scoped>\n",
       "    .dataframe tbody tr th:only-of-type {\n",
       "        vertical-align: middle;\n",
       "    }\n",
       "\n",
       "    .dataframe tbody tr th {\n",
       "        vertical-align: top;\n",
       "    }\n",
       "\n",
       "    .dataframe thead th {\n",
       "        text-align: right;\n",
       "    }\n",
       "</style>\n",
       "<table border=\"1\" class=\"dataframe\">\n",
       "  <thead>\n",
       "    <tr style=\"text-align: right;\">\n",
       "      <th></th>\n",
       "      <th>text</th>\n",
       "      <th>rating</th>\n",
       "    </tr>\n",
       "  </thead>\n",
       "  <tbody>\n",
       "    <tr>\n",
       "      <th>0</th>\n",
       "      <td>I got the phone, had it shipped all the way  a...</td>\n",
       "      <td>3.0 out of 5 stars</td>\n",
       "    </tr>\n",
       "    <tr>\n",
       "      <th>1</th>\n",
       "      <td>Got 2nd phone requirements:Didn't want to spen...</td>\n",
       "      <td>5.0 out of 5 stars</td>\n",
       "    </tr>\n",
       "    <tr>\n",
       "      <th>2</th>\n",
       "      <td>I bought this phone back when I had AT&amp;T's pre...</td>\n",
       "      <td>5.0 out of 5 stars</td>\n",
       "    </tr>\n",
       "    <tr>\n",
       "      <th>3</th>\n",
       "      <td>There are too many things wrong to name them a...</td>\n",
       "      <td>2.0 out of 5 stars</td>\n",
       "    </tr>\n",
       "    <tr>\n",
       "      <th>4</th>\n",
       "      <td>Really nice phone for the money. The phone is ...</td>\n",
       "      <td>4.0 out of 5 stars</td>\n",
       "    </tr>\n",
       "  </tbody>\n",
       "</table>\n",
       "</div>"
      ],
      "text/plain": [
       "                                                text              rating\n",
       "0  I got the phone, had it shipped all the way  a...  3.0 out of 5 stars\n",
       "1  Got 2nd phone requirements:Didn't want to spen...  5.0 out of 5 stars\n",
       "2  I bought this phone back when I had AT&T's pre...  5.0 out of 5 stars\n",
       "3  There are too many things wrong to name them a...  2.0 out of 5 stars\n",
       "4  Really nice phone for the money. The phone is ...  4.0 out of 5 stars"
      ]
     },
     "execution_count": 5,
     "metadata": {},
     "output_type": "execute_result"
    }
   ],
   "source": [
    "import pandas as pd\n",
    "\n",
    "# Haetaan data ja katsotaan miltä se näyttää\n",
    "data = pd.read_json('https://raw.githubusercontent.com/InfoTUNI/joda2022/master/koodiesimerkit/out.json')\n",
    "\n",
    "data.head()"
   ]
  },
  {
   "cell_type": "code",
   "execution_count": 6,
   "metadata": {},
   "outputs": [
    {
     "data": {
      "text/html": [
       "<div>\n",
       "<style scoped>\n",
       "    .dataframe tbody tr th:only-of-type {\n",
       "        vertical-align: middle;\n",
       "    }\n",
       "\n",
       "    .dataframe tbody tr th {\n",
       "        vertical-align: top;\n",
       "    }\n",
       "\n",
       "    .dataframe thead th {\n",
       "        text-align: right;\n",
       "    }\n",
       "</style>\n",
       "<table border=\"1\" class=\"dataframe\">\n",
       "  <thead>\n",
       "    <tr style=\"text-align: right;\">\n",
       "      <th></th>\n",
       "      <th>text</th>\n",
       "      <th>rating</th>\n",
       "    </tr>\n",
       "  </thead>\n",
       "  <tbody>\n",
       "    <tr>\n",
       "      <th>0</th>\n",
       "      <td>i got the phone, had it shipped all the way  a...</td>\n",
       "      <td>3.0 out of 5 stars</td>\n",
       "    </tr>\n",
       "    <tr>\n",
       "      <th>1</th>\n",
       "      <td>got 2nd phone requirements:didn't want to spen...</td>\n",
       "      <td>5.0 out of 5 stars</td>\n",
       "    </tr>\n",
       "    <tr>\n",
       "      <th>2</th>\n",
       "      <td>i bought this phone back when i had at&amp;t's pre...</td>\n",
       "      <td>5.0 out of 5 stars</td>\n",
       "    </tr>\n",
       "    <tr>\n",
       "      <th>3</th>\n",
       "      <td>there are too many things wrong to name them a...</td>\n",
       "      <td>2.0 out of 5 stars</td>\n",
       "    </tr>\n",
       "    <tr>\n",
       "      <th>4</th>\n",
       "      <td>really nice phone for the money. the phone is ...</td>\n",
       "      <td>4.0 out of 5 stars</td>\n",
       "    </tr>\n",
       "  </tbody>\n",
       "</table>\n",
       "</div>"
      ],
      "text/plain": [
       "                                                text              rating\n",
       "0  i got the phone, had it shipped all the way  a...  3.0 out of 5 stars\n",
       "1  got 2nd phone requirements:didn't want to spen...  5.0 out of 5 stars\n",
       "2  i bought this phone back when i had at&t's pre...  5.0 out of 5 stars\n",
       "3  there are too many things wrong to name them a...  2.0 out of 5 stars\n",
       "4  really nice phone for the money. the phone is ...  4.0 out of 5 stars"
      ]
     },
     "execution_count": 6,
     "metadata": {},
     "output_type": "execute_result"
    }
   ],
   "source": [
    "# Muunetaan text-sarakkeen arvot pieniksi kirjaimiksi\n",
    "data['text'] = data['text'].apply(str.lower)\n",
    "data.head()"
   ]
  },
  {
   "cell_type": "code",
   "execution_count": 7,
   "metadata": {},
   "outputs": [
    {
     "data": {
      "text/html": [
       "<div>\n",
       "<style scoped>\n",
       "    .dataframe tbody tr th:only-of-type {\n",
       "        vertical-align: middle;\n",
       "    }\n",
       "\n",
       "    .dataframe tbody tr th {\n",
       "        vertical-align: top;\n",
       "    }\n",
       "\n",
       "    .dataframe thead th {\n",
       "        text-align: right;\n",
       "    }\n",
       "</style>\n",
       "<table border=\"1\" class=\"dataframe\">\n",
       "  <thead>\n",
       "    <tr style=\"text-align: right;\">\n",
       "      <th></th>\n",
       "      <th>text</th>\n",
       "      <th>rating</th>\n",
       "    </tr>\n",
       "  </thead>\n",
       "  <tbody>\n",
       "    <tr>\n",
       "      <th>0</th>\n",
       "      <td>i got the phone, had it shipped all the way  a...</td>\n",
       "      <td>3.0</td>\n",
       "    </tr>\n",
       "    <tr>\n",
       "      <th>1</th>\n",
       "      <td>got 2nd phone requirements:didn't want to spen...</td>\n",
       "      <td>5.0</td>\n",
       "    </tr>\n",
       "    <tr>\n",
       "      <th>2</th>\n",
       "      <td>i bought this phone back when i had at&amp;t's pre...</td>\n",
       "      <td>5.0</td>\n",
       "    </tr>\n",
       "    <tr>\n",
       "      <th>3</th>\n",
       "      <td>there are too many things wrong to name them a...</td>\n",
       "      <td>2.0</td>\n",
       "    </tr>\n",
       "    <tr>\n",
       "      <th>4</th>\n",
       "      <td>really nice phone for the money. the phone is ...</td>\n",
       "      <td>4.0</td>\n",
       "    </tr>\n",
       "  </tbody>\n",
       "</table>\n",
       "</div>"
      ],
      "text/plain": [
       "                                                text  rating\n",
       "0  i got the phone, had it shipped all the way  a...     3.0\n",
       "1  got 2nd phone requirements:didn't want to spen...     5.0\n",
       "2  i bought this phone back when i had at&t's pre...     5.0\n",
       "3  there are too many things wrong to name them a...     2.0\n",
       "4  really nice phone for the money. the phone is ...     4.0"
      ]
     },
     "execution_count": 7,
     "metadata": {},
     "output_type": "execute_result"
    }
   ],
   "source": [
    "# Muunnetaan rating-sarakeen arvot numeerisiksi (float)\n",
    "conv_rating = lambda rating: float(rating[:2])\n",
    "data['rating'] = data['rating'].apply(conv_rating)\n",
    "\n",
    "data.head()"
   ]
  }
 ],
 "metadata": {
  "kernelspec": {
   "display_name": "Python 3.9.7 ('base')",
   "language": "python",
   "name": "python3"
  },
  "language_info": {
   "codemirror_mode": {
    "name": "ipython",
    "version": 3
   },
   "file_extension": ".py",
   "mimetype": "text/x-python",
   "name": "python",
   "nbconvert_exporter": "python",
   "pygments_lexer": "ipython3",
   "version": "3.9.7"
  },
  "orig_nbformat": 4,
  "vscode": {
   "interpreter": {
    "hash": "7fa34090cb7af4223176c3ba8ae08a175f6370c1b6c642f4e551f736b02987b0"
   }
  }
 },
 "nbformat": 4,
 "nbformat_minor": 2
}
