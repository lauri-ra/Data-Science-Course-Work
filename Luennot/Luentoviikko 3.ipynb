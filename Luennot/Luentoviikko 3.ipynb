{
 "cells": [
  {
   "cell_type": "markdown",
   "metadata": {},
   "source": [
    "# Luentoviikko 3 - Koneoppimisen perusteet\n",
    "\n",
    "- Mitä on koneoppiminen?\n",
    "- Mitä ovat piirteet ja miten ne liittyvät koneoppimiseen\n",
    "- Miten koneoppimista sovelletaan datatieteessä?\n",
    "- Onko datatiede kokonaisuudessaan koneoppimista?\n",
    "- Miten koneoppiminen ja tekoäly liittyvät toisiinsa?"
   ]
  },
  {
   "cell_type": "markdown",
   "metadata": {},
   "source": [
    "# Muistiinpanot\n",
    "\n",
    "Osallistuin viikon opetukseen katsomalla luentotallenteen sekä demon panoptosta.\n",
    "\n",
    "Opetetaan algoritmi koneoppimisen perusteiden mukaisesti\n",
    "- Koneoppimisen 4 tyyppiä: ohjattu, ohjaamaton, (vahvistettu ja -syväoppiminen)\n",
    "\n",
    "Ohjatun oppimisen työnkulku\n",
    "- Raakadata (esim. luottokorttipäätökset)\n",
    "- Label (ennustettava muuttuja, onko luottokortteja myönnetty vai ei), ei aina saatavilla, johdettava raakadatasta manuaalisesti\n",
    "- Piirteet - joukko muuttujia, jotka ennustavat tulemaa (ikä, luottotiedto yms.)\n",
    "- Malli muodostaa tulokset matriisista, opetetaan, luokitteluongelama, false negatives/positives, kumpi virhe kalliimpi (kortti myönnetään vai ei)\n",
    "- Tulosten ennustaminen mallin perusteella, uusia piirteitä voidaan muodostaa koneoppimisen avulla\n",
    "\n",
    "Laadukas data -> algoritmien opetus\n",
    "\n",
    "Piirteet\n",
    "- muuttujilla oltava merkitystä, olennaiset piirteet erotettava datasta\n",
    "- esim. \"Punavuori\" piirre ei ole hyödyllinen Berliinissä, jokin muu piirre ennustaa hintaa paremmin\n",
    "- esim. piirteet jotka ennustavat hintaa (käyttis, näyttö, muisti...)\n",
    "- piirteiden valinta riippuu mitä halutaan ennustaa (hinta, laitekehitys, palauteen laatu)\n",
    "- ohjaamaton oppiminen, palautteiden klusterointi / ryhmittely\n",
    "- laiteet jotka keräävät dataa 24/7, esim. verkkokamerat/sateliitit tallentavat vain piirteet tilan säästämiseksi, kaikkea ei haluta tallentaa"
   ]
  }
 ],
 "metadata": {
  "language_info": {
   "name": "python"
  },
  "orig_nbformat": 4
 },
 "nbformat": 4,
 "nbformat_minor": 2
}
