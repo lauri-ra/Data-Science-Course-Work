{
 "cells": [
  {
   "cell_type": "markdown",
   "metadata": {},
   "source": [
    "# Luentopäiväkirja 1\n",
    "\n",
    "Osallistuin viikon opetukseen katsomalla varsinaisen luennon videotallenteet sekä demon panoptosta. \n",
    "\n",
    "Päiväkirjan teossa käytettyä aineistoa:\n",
    "- [Luento 1 materiaali] (https://github.com/InfoTUNI/joda2022/blob/master/luentomuistio/luento01.ipynb)\n",
    "- [Luento 1 Demo] (https://github.com/InfoTUNI/joda2021/blob/master/koodiesimerkit/Session%201%20-%20Analysis%20of%20Transactions.ipynb)\n",
    "\n",
    "## Kurssin kesekeiset oppimistavoiteet\n",
    "- Oppia datatieteen perusteita\n",
    "- Erityisesti tietotekninen/ohjelmoinnin osuus alalta kiinnostaa\n",
    "- Opetella uusia kurssilla käytettäviä teknologioita ja vahventaa aiempaa osaamista (Jupyterlab, Git, Python, pandas...)\n",
    "\n",
    "## Viikon keskeiset asiat\n",
    "Datatiede on hyvin moninainen käsite. Se yhdistää neljän eri alan osaamista: liiketoiminta, tekninen, tilasto, viestintä/visualisointi.\n",
    "\n",
    "Datan keräämistä voidaan kuvailla erilaisilla malleilla. Esimerkiksi **CRISP-DM -malli** jaottelee datan keräämisen kuuteen eri osa-alueeseen. Vastaavia malleja on useampia, mutta keskeisnä yhteisenä tekijänä vaikuttaa olevan se, että mallit eivät ole kovin rajattuja. Ne ovat pikemminkin iteratiivisia prosesseja, joiden vaiheiden välillä siirrytään tarvittaessa paikoittain suuntaan tai toiseen. Lisäksi prosesseissa keskeistä on laaja yleisymmärys kustakin ympäristöstä. Jotta tietoa voidaan käyttää tehokkaasti, vaatii se data käsittelyn ohella myös tietoa esimerkiksi yrityksen toimialasta. Näin prosessikaavioiden avulla voidaan myös hahmottaa datatieteilijältä vaadittavia tietoja ja taitoja.\n",
    "\n",
    "Datan keräämiseen ja sen käyttöön liittyvien eettisten kysymysten pohtiminen on yksi datatieteen edellytyksistä. Tietoa ja tietoon perustuvia järjestelmia on nykypäivänä kaikkialla. Sitä luodaan, kerätään ja käsitellään jatkuvasti, joten datan pohjalta tehtävillä päätöksillä voi olla hyvinkin laaja-alaisia vaikutuksia ihmisiin ja yhteiskuntaan. \n",
    "\n",
    "Koska nykypäivänä dataa on kaikialla ja kasvavissa määrin, sen ymmärtämisessä korostuu tekoälyn ja tilastollisen oppimisen hyödyntäminen. Erilaisten tietokoneiden laskentatehon kasvaessa kyetään entistä monimutkaisempiin teknisiin suorituksiin, joilla datasta voidaan luoda uusia näkemyksiä. Datan käsittelyyn tarkoitettujen perinteisten tilastollisten laskentajärjestelmien ohelle on noussut esimerkiksi Pythoniin perustuvia ympäristöjä. Pythonin erilaisten kirjastojen avulla voidaan esimerkiksi suorittaa laskennallisia operaatioita ja visualisoida saatuja tuloksia.\n",
    "\n",
    "Minun oma tähänastinen ymmärys datatieteestä on lähinnä teknisemmästä näkökulmasta, datan käsittelyyn liittyviltä ohjelmointikursseilta. Johdantoluennolla oli mielenkiintoista huomata, kuinka ala kuitenkin kerää yhteen useamman eri alan osaamista viestinnästä liiketoimintaosaamiseen.\n",
    "\n",
    "## Viisi oivallusta\n",
    "- Datatiede on hyvin laaja-alainen kokonaisuus\n",
    "- Datan käsittely on usein iteratiivinen prosessi\n",
    "- Datatiede ei ole erillinen osa esim. organisaatiosta tai liiketoimintaympäristöstä\n",
    "- Ei ole realistista olettaa, että yksittäinen henkilö hallitsisi datatieteen kokonaisuudessaan\n",
    "- Tekoäly, kone/tilastollinen oppiminen keskeistä data käsittelyssä\n",
    "\n",
    "## Koodidemo"
   ]
  },
  {
   "cell_type": "code",
   "execution_count": null,
   "metadata": {},
   "outputs": [],
   "source": [
    "import pandas as pd\n",
    "\n",
    "url = 'https://github.com/jodatut/2020/raw/master/koodiesimerkit/SalesJan2009.csv'\n",
    "data = pd.read_csv(url)"
   ]
  },
  {
   "cell_type": "code",
   "execution_count": 3,
   "metadata": {},
   "outputs": [
    {
     "name": "stdout",
     "output_type": "stream",
     "text": [
      "['Transaction_date', 'Product', 'Price', 'Payment_Type', 'Name', 'City', 'State', 'Country', 'Account_Created', 'Last_Login', 'Latitude', 'Longitude']\n"
     ]
    }
   ],
   "source": [
    "# Tarkistetaan taulukon sarakkeiden nimet\n",
    "attributes = data.columns.values.tolist()\n",
    "print(attributes)"
   ]
  },
  {
   "cell_type": "code",
   "execution_count": 8,
   "metadata": {},
   "outputs": [
    {
     "name": "stdout",
     "output_type": "stream",
     "text": [
      "Transaction_date     object\n",
      "Product              object\n",
      "Price               float64\n",
      "Payment_Type         object\n",
      "Name                 object\n",
      "City                 object\n",
      "State                object\n",
      "Country              object\n",
      "Account_Created      object\n",
      "Last_Login           object\n",
      "Latitude            float64\n",
      "Longitude           float64\n",
      "dtype: object\n"
     ]
    }
   ],
   "source": [
    "# Tarkistetaan tietotyypit\n",
    "print(data.dtypes)"
   ]
  },
  {
   "cell_type": "code",
   "execution_count": 9,
   "metadata": {},
   "outputs": [
    {
     "name": "stdout",
     "output_type": "stream",
     "text": [
      "  Transaction_date   Product   Price Payment_Type               Name  \\\n",
      "0      1/2/09 6:17  Product1  1200.0   Mastercard           carolina   \n",
      "1      1/2/09 4:53  Product1  1200.0         Visa             Betina   \n",
      "2     1/2/09 13:08  Product1  1200.0   Mastercard  Federica e Andrea   \n",
      "3     1/3/09 14:44  Product1  1200.0         Visa              Gouya   \n",
      "4     1/4/09 12:56  Product2  3600.0         Visa            Gerd W    \n",
      "\n",
      "                           City     State         Country Account_Created  \\\n",
      "0                      Basildon   England  United Kingdom     1/2/09 6:00   \n",
      "1  Parkville                           MO   United States     1/2/09 4:42   \n",
      "2  Astoria                             OR   United States    1/1/09 16:21   \n",
      "3                        Echuca  Victoria       Australia   9/25/05 21:13   \n",
      "4  Cahaba Heights                      AL   United States  11/15/08 15:47   \n",
      "\n",
      "     Last_Login   Latitude   Longitude  \n",
      "0   1/2/09 6:08  51.500000   -1.116667  \n",
      "1   1/2/09 7:49  39.195000  -94.681940  \n",
      "2  1/3/09 12:32  46.188060 -123.830000  \n",
      "3  1/3/09 14:22 -36.133333  144.750000  \n",
      "4  1/4/09 12:45  33.520560  -86.802500  \n"
     ]
    }
   ],
   "source": [
    "# Katsaus taulukon dataan\n",
    "print(data.head())"
   ]
  },
  {
   "cell_type": "code",
   "execution_count": 10,
   "metadata": {},
   "outputs": [
    {
     "name": "stdout",
     "output_type": "stream",
     "text": [
      "Transaction_date     object\n",
      "Product              object\n",
      "Price               float64\n",
      "Payment_Type         object\n",
      "Name                 object\n",
      "City                 object\n",
      "State                object\n",
      "Country              object\n",
      "Account_Created      object\n",
      "Last_Login           object\n",
      "Latitude            float64\n",
      "Longitude           float64\n",
      "dtype: object\n"
     ]
    }
   ],
   "source": [
    "# Muunnetaan sarakkeen Price arvo tyypiksi float\n",
    "data['Price'] = data['Price'].astype(float)\n",
    "\n",
    "print(data.dtypes)"
   ]
  },
  {
   "cell_type": "code",
   "execution_count": 11,
   "metadata": {},
   "outputs": [
    {
     "name": "stdout",
     "output_type": "stream",
     "text": [
      "  Transaction_date   Product   Price Payment_Type               Name  \\\n",
      "0      1/2/09 6:17  Product1  1200.0   Mastercard           carolina   \n",
      "1      1/2/09 4:53  Product1  1200.0         Visa             Betina   \n",
      "2     1/2/09 13:08  Product1  1200.0   Mastercard  Federica e Andrea   \n",
      "3     1/3/09 14:44  Product1  1200.0         Visa              Gouya   \n",
      "4     1/4/09 12:56  Product2  3600.0         Visa            Gerd W    \n",
      "\n",
      "                           City     State         Country Account_Created  \\\n",
      "0                      Basildon   England  United Kingdom     1/2/09 6:00   \n",
      "1  Parkville                           MO   United States     1/2/09 4:42   \n",
      "2  Astoria                             OR   United States    1/1/09 16:21   \n",
      "3                        Echuca  Victoria       Australia   9/25/05 21:13   \n",
      "4  Cahaba Heights                      AL   United States  11/15/08 15:47   \n",
      "\n",
      "     Last_Login   Latitude   Longitude  \n",
      "0   1/2/09 6:08  51.500000   -1.116667  \n",
      "1   1/2/09 7:49  39.195000  -94.681940  \n",
      "2  1/3/09 12:32  46.188060 -123.830000  \n",
      "3  1/3/09 14:22 -36.133333  144.750000  \n",
      "4  1/4/09 12:45  33.520560  -86.802500  \n"
     ]
    }
   ],
   "source": [
    "# Muunnetut tiedot taulukossa\n",
    "print(data.head())"
   ]
  }
 ],
 "metadata": {
  "interpreter": {
   "hash": "7fa34090cb7af4223176c3ba8ae08a175f6370c1b6c642f4e551f736b02987b0"
  },
  "kernelspec": {
   "display_name": "Python 3.9.7 ('base')",
   "language": "python",
   "name": "python3"
  },
  "language_info": {
   "codemirror_mode": {
    "name": "ipython",
    "version": 3
   },
   "file_extension": ".py",
   "mimetype": "text/x-python",
   "name": "python",
   "nbconvert_exporter": "python",
   "pygments_lexer": "ipython3",
   "version": "3.9.7"
  }
 },
 "nbformat": 4,
 "nbformat_minor": 4
}
