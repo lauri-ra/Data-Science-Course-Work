{
 "cells": [
  {
   "cell_type": "markdown",
   "metadata": {},
   "source": [
    "# Kurssin Yhteenveto\n",
    "\n",
    "Mielestäni kurssi oli  erittäin mielenkiintoinen. Kiireisen kandikevään aikana en pystyntyt kuitenkaan panostamaan ajallisesti niin paljon kuin olisin hallunnut, mutta koen pääseeni ensimmäisellä luentoviikolla asettamiin tavoitteisiini kohtuu hyvin. Sain kurssilta hyvän läpileikkauksen datatieteiden perusteisiin. Luentojen teorian ohella, koodiesimerkkien ja demojen kautta, pääsin myös oppimaan datatieteen toteuttamisesta käytännössä. Kevään aikana eteen tuli myös useita uusia teknologioita, kuten Jupyter notebookit sekä Pythonin useat eri kirjastot datan visualisoinnista koneoppimiseen. Harjoitustyön kautta pääsin vahventamaan API-ohjelmoinnin perusteita Python-kielellä ja tutustumaan Microsoftin Azure -pilvipalveluun. Ajankäytön salliessa työtä olisi kyllä ollut vielä mahdollista lajeentaa esimerkiksi interaktiivisella raportoinnilla tai verkkopohjaisella sivustolla, joihin olisi voinut esim. syöttää soittolistojen linkkejä."
   ]
  }
 ],
 "metadata": {
  "language_info": {
   "name": "python"
  },
  "orig_nbformat": 4
 },
 "nbformat": 4,
 "nbformat_minor": 2
}
