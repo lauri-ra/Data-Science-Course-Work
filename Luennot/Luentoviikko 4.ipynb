{
 "cells": [
  {
   "cell_type": "markdown",
   "metadata": {},
   "source": [
    "# Luentoviikko 4\n",
    "\n",
    "## Harjoitustyö\n",
    "\n",
    "Osallistuin viikon opetukseen katsomalla varsinaisen luennon videotallenteet sekä demon panoptosta. \n",
    "\n",
    "Päiväkirjan teossa käytettyä aineistoa:\n",
    "- https://github.com/InfoTUNI/joda2022/blob/master/luentomuistio/luento04.ipynb\n",
    "- https://github.com/InfoTUNI/joda2022/blob/master/koodiesimerkit/airnbn/python_scikit_airbnb.ipynb\n",
    "- https://github.com/InfoTUNI/joda2022/blob/master/koodiesimerkit/Session%204%20-%20Categorical%20and%20Missing%20Data.ipynb\n",
    "\n",
    "### Viikon keskeiset asiat\n",
    "\n",
    "Harjoitustyötä lähdetään tekemään CRISP-DM mallia mukaillen, joka on tuttu ensimmäiseltä luentoviikolta. Harjoitustyön hahmottelun apuna voi käyttää mahdollisuuskehikkoa, johon asetellaan tutkimusongelmaan liittyviä aiheita projektin kokonaiskuvan havainnollistamiseksi.\n",
    "\n",
    "Kuten \"oikeissa\" datatiedeprojekteissa, myös harjoitustyössä lähdetään liikkeelle tutkimuskysymyksestä.  Harjoitustyössä tavoitteena on oppia uutta ratkaisevasta ongelmasta ja siihen liittyvästä toimialasta (\"Esitetään mielenkiintoisia kysymyksiä\"). Olennaista on ongelmalähtöinen ajattelu, eikä niinkään pelkkä data tai sen käsittely. Projektin on tuotettava hyödyllistä tietoa kyseisen organisaation toimintaan.\n",
    "\n",
    "Harjoitustyössä käytettävää dataa voidaan hankkia useasta lähteestä. Kaggle-palvelussa on useita valmiita datasettejä usealta eri toimialata. Verkossa on myös saatavilla myös useita ilmaisia ja avoimia rajapintoja, joista dataa voi hakea API-ohjelmoinnin keinoin. Todellisen maailman projekteissa hyödynnettävä data olla myös lähtöisin organisaation sisältä.\n",
    "\n",
    "Datan keräämisen jälkeen harjoityössä siirryttään selvittämään sen varsinaista sisältöä. Tutkimusongelman kannalta on olennaista tietää, mitä datan sisältämät muuttujat kertovat, sekä miten ja mihin niitä voidaan käyttää. Kerätyssä datassa muuttujien arvot saattavat olla luokiteltuna eri tavoin tai asettu eri yksiköihin. Osa arvoista voi olla virheellisiä tai puuttua kokonaan. Dataa on siivottava niin, että sitä voidaan hyödyntää projektille asetetun ongelman ratkaisussa.\n",
    "\n",
    "Jotta ratkaistavaan ongelmaan voitaisiin vastata, tulee datasta löytää tutkimuksen kannalta olennaiset piirteet (muuttujat). Tarvittaessa piirteet on hyvä muunta muotoon, jossa niistä on eniten hyötyä. Esimerkiksi kappaleiden pituudet millisekunneissa vs. minuuteissa. Mikäli dataa kerätään useasta eri lähteestä, on selvitettävä miten ne saadan yhdistettyä järkevästi. Yhdistetyissä tai suurissa dataseteissä on joukossa luultavasti muutujia, jotka eivät ole projektin kannalta hyödyllisiä. \n",
    "\n",
    "Harjoitustyössä kerättyä ja jalostettua dataa visualisoidaan esimerkiksi erilaisten Python-kirjastojen avulla. Tässäkin vaihessa korostuu vastaaminen alussa asetettuun tutkimusongelmaan. Saatavilla olevia kirjastoja on useita. Visualisointimenetelmät ja kuvattavat muuttujat on valittava tarkoin, jotta niistä on hyötyä ongelmanratkaisussa.\n",
    "\n",
    "Lopuksi harjoitustyön tutkimusongelmaan pyritään vastamaan mallintamalla dataa, esimerkiksi koneoppimista hydöyntämällä. Yllä kuvattu prosessi on kuitenkin iteratiivinen. Projektia voidaan laajentaa esimerkiksi uusilla datalähteillä, kuvaamalla dataa eri tavoin tai tarkentamalla alussa asetettua tutkimuskysymystä.\n",
    "\n",
    "### Viisi oivallusta\n",
    "- Datatiedeprojektissa tutkimuskysymys/-ongelma on erittäin keskeisessä osassa\n",
    "- Dataa voidaan kerätä useasta eri lähteestä ja sitä voidaan yhdistellä\n",
    "- Data siistittävä ja jalostettava oikein, helpottaa myöhempää käsittelyä\n",
    "- Visualisointi oltava tarkoituksenmukaista\n",
    "- Iteratiivinen prosessi, myöhemmillä kerroilla parempi kokonaiskuva projektista\n",
    "\n",
    "### Kehityskohteet\n",
    "- Olisi ollut hyvä, jos vuorovaikuteiselle luenolle olisi voinut osallistua myös verkosta käsin\n",
    "\n",
    "### Koodidemo"
   ]
  },
  {
   "cell_type": "code",
   "execution_count": 78,
   "metadata": {},
   "outputs": [
    {
     "name": "stdout",
     "output_type": "stream",
     "text": [
      "<class 'pandas.core.frame.DataFrame'>\n",
      "RangeIndex: 16313 entries, 0 to 16312\n",
      "Data columns (total 97 columns):\n",
      " #   Column                            Non-Null Count  Dtype  \n",
      "---  ------                            --------------  -----  \n",
      " 0   Unnamed: 0                        16313 non-null  int64  \n",
      " 1   id                                16313 non-null  int64  \n",
      " 2   listing_url                       16313 non-null  object \n",
      " 3   scrape_id                         16313 non-null  int64  \n",
      " 4   last_scraped                      16313 non-null  object \n",
      " 5   name                              16302 non-null  object \n",
      " 6   summary                           15860 non-null  object \n",
      " 7   space                             11798 non-null  object \n",
      " 8   description                       16305 non-null  object \n",
      " 9   experiences_offered               16313 non-null  object \n",
      " 10  neighborhood_overview             10343 non-null  object \n",
      " 11  notes                             6734 non-null   object \n",
      " 12  transit                           10186 non-null  object \n",
      " 13  access                            9057 non-null   object \n",
      " 14  interaction                       9196 non-null   object \n",
      " 15  house_rules                       10189 non-null  object \n",
      " 16  thumbnail_url                     0 non-null      float64\n",
      " 17  medium_url                        0 non-null      float64\n",
      " 18  picture_url                       16313 non-null  object \n",
      " 19  xl_picture_url                    0 non-null      float64\n",
      " 20  host_id                           16313 non-null  int64  \n",
      " 21  host_url                          16313 non-null  object \n",
      " 22  host_name                         16284 non-null  object \n",
      " 23  host_since                        16284 non-null  object \n",
      " 24  host_location                     16223 non-null  object \n",
      " 25  host_about                        9965 non-null   object \n",
      " 26  host_response_time                13805 non-null  object \n",
      " 27  host_response_rate                13805 non-null  object \n",
      " 28  host_acceptance_rate              0 non-null      float64\n",
      " 29  host_is_superhost                 16284 non-null  object \n",
      " 30  host_thumbnail_url                16284 non-null  object \n",
      " 31  host_picture_url                  16284 non-null  object \n",
      " 32  host_neighbourhood                11888 non-null  object \n",
      " 33  host_listings_count               16284 non-null  float64\n",
      " 34  host_total_listings_count         16284 non-null  float64\n",
      " 35  host_verifications                16313 non-null  object \n",
      " 36  host_has_profile_pic              16284 non-null  object \n",
      " 37  host_identity_verified            16284 non-null  object \n",
      " 38  street                            16313 non-null  object \n",
      " 39  neighbourhood                     16309 non-null  object \n",
      " 40  neighbourhood_cleansed            16313 non-null  object \n",
      " 41  neighbourhood_group_cleansed      16313 non-null  object \n",
      " 42  city                              16311 non-null  object \n",
      " 43  state                             16230 non-null  object \n",
      " 44  zipcode                           15693 non-null  object \n",
      " 45  market                            16262 non-null  object \n",
      " 46  smart_location                    16313 non-null  object \n",
      " 47  country_code                      16313 non-null  object \n",
      " 48  country                           16312 non-null  object \n",
      " 49  latitude                          16313 non-null  float64\n",
      " 50  longitude                         16313 non-null  float64\n",
      " 51  is_location_exact                 16313 non-null  object \n",
      " 52  property_type                     16313 non-null  object \n",
      " 53  room_type                         16313 non-null  object \n",
      " 54  accommodates                      16313 non-null  int64  \n",
      " 55  bathrooms                         16275 non-null  float64\n",
      " 56  bedrooms                          16308 non-null  float64\n",
      " 57  beds                              16281 non-null  float64\n",
      " 58  bed_type                          16313 non-null  object \n",
      " 59  amenities                         16313 non-null  object \n",
      " 60  square_feet                       446 non-null    float64\n",
      " 61  price                             16313 non-null  object \n",
      " 62  weekly_price                      2879 non-null   object \n",
      " 63  monthly_price                     2703 non-null   object \n",
      " 64  security_deposit                  10095 non-null  object \n",
      " 65  cleaning_fee                      11400 non-null  object \n",
      " 66  guests_included                   16313 non-null  int64  \n",
      " 67  extra_people                      16313 non-null  object \n",
      " 68  minimum_nights                    16313 non-null  int64  \n",
      " 69  maximum_nights                    16313 non-null  int64  \n",
      " 70  calendar_updated                  16313 non-null  object \n",
      " 71  has_availability                  16313 non-null  object \n",
      " 72  availability_30                   16313 non-null  int64  \n",
      " 73  availability_60                   16313 non-null  int64  \n",
      " 74  availability_90                   16313 non-null  int64  \n",
      " 75  availability_365                  16313 non-null  int64  \n",
      " 76  calendar_last_scraped             16313 non-null  object \n",
      " 77  number_of_reviews                 16313 non-null  int64  \n",
      " 78  first_review                      13261 non-null  object \n",
      " 79  last_review                       13290 non-null  object \n",
      " 80  review_scores_rating              13118 non-null  float64\n",
      " 81  review_scores_accuracy            13105 non-null  float64\n",
      " 82  review_scores_cleanliness         13111 non-null  float64\n",
      " 83  review_scores_checkin             13089 non-null  float64\n",
      " 84  review_scores_communication       13104 non-null  float64\n",
      " 85  review_scores_location            13083 non-null  float64\n",
      " 86  review_scores_value               13082 non-null  float64\n",
      " 87  requires_license                  16313 non-null  object \n",
      " 88  license                           1511 non-null   object \n",
      " 89  jurisdiction_names                0 non-null      float64\n",
      " 90  instant_bookable                  16313 non-null  object \n",
      " 91  is_business_travel_ready          16313 non-null  object \n",
      " 92  cancellation_policy               16313 non-null  object \n",
      " 93  require_guest_profile_picture     16313 non-null  object \n",
      " 94  require_guest_phone_verification  16313 non-null  object \n",
      " 95  calculated_host_listings_count    16313 non-null  int64  \n",
      " 96  reviews_per_month                 13261 non-null  float64\n",
      "dtypes: float64(21), int64(14), object(62)\n",
      "memory usage: 12.1+ MB\n"
     ]
    }
   ],
   "source": [
    "import pandas as pd\n",
    "import seaborn as sns\n",
    "import matplotlib.pyplot as plt\n",
    "\n",
    "# Haetaan data\n",
    "url = 'https://raw.githubusercontent.com/InfoTUNI/joda2022/master/koodiesimerkit/data.csv'\n",
    "df = pd.read_csv(url)\n",
    "\n",
    "df.info()"
   ]
  },
  {
   "cell_type": "code",
   "execution_count": 79,
   "metadata": {},
   "outputs": [
    {
     "data": {
      "text/html": [
       "<div>\n",
       "<style scoped>\n",
       "    .dataframe tbody tr th:only-of-type {\n",
       "        vertical-align: middle;\n",
       "    }\n",
       "\n",
       "    .dataframe tbody tr th {\n",
       "        vertical-align: top;\n",
       "    }\n",
       "\n",
       "    .dataframe thead th {\n",
       "        text-align: right;\n",
       "    }\n",
       "</style>\n",
       "<table border=\"1\" class=\"dataframe\">\n",
       "  <thead>\n",
       "    <tr style=\"text-align: right;\">\n",
       "      <th></th>\n",
       "      <th>id</th>\n",
       "      <th>review_scores_rating</th>\n",
       "      <th>price</th>\n",
       "    </tr>\n",
       "  </thead>\n",
       "  <tbody>\n",
       "    <tr>\n",
       "      <th>0</th>\n",
       "      <td>18628</td>\n",
       "      <td>89.0</td>\n",
       "      <td>$54.00</td>\n",
       "    </tr>\n",
       "    <tr>\n",
       "      <th>1</th>\n",
       "      <td>19864</td>\n",
       "      <td>91.0</td>\n",
       "      <td>$65.00</td>\n",
       "    </tr>\n",
       "    <tr>\n",
       "      <th>2</th>\n",
       "      <td>21512</td>\n",
       "      <td>79.0</td>\n",
       "      <td>$40.00</td>\n",
       "    </tr>\n",
       "    <tr>\n",
       "      <th>3</th>\n",
       "      <td>21853</td>\n",
       "      <td>90.0</td>\n",
       "      <td>$17.00</td>\n",
       "    </tr>\n",
       "    <tr>\n",
       "      <th>4</th>\n",
       "      <td>23021</td>\n",
       "      <td>80.0</td>\n",
       "      <td>$90.00</td>\n",
       "    </tr>\n",
       "  </tbody>\n",
       "</table>\n",
       "</div>"
      ],
      "text/plain": [
       "      id  review_scores_rating   price\n",
       "0  18628                  89.0  $54.00\n",
       "1  19864                  91.0  $65.00\n",
       "2  21512                  79.0  $40.00\n",
       "3  21853                  90.0  $17.00\n",
       "4  23021                  80.0  $90.00"
      ]
     },
     "execution_count": 79,
     "metadata": {},
     "output_type": "execute_result"
    }
   ],
   "source": [
    "# Valitaan muuttujat, tarkastellaan arvioiden ja hinnan suhdetta toisiinsa\n",
    "df = df[['id', 'review_scores_rating', 'price']]\n",
    "df.head()"
   ]
  },
  {
   "cell_type": "code",
   "execution_count": 80,
   "metadata": {},
   "outputs": [
    {
     "name": "stdout",
     "output_type": "stream",
     "text": [
      "<class 'pandas.core.frame.DataFrame'>\n",
      "RangeIndex: 16313 entries, 0 to 16312\n",
      "Data columns (total 3 columns):\n",
      " #   Column                Non-Null Count  Dtype  \n",
      "---  ------                --------------  -----  \n",
      " 0   id                    16313 non-null  int64  \n",
      " 1   review_scores_rating  13118 non-null  float64\n",
      " 2   price                 16313 non-null  float64\n",
      "dtypes: float64(2), int64(1)\n",
      "memory usage: 382.5 KB\n"
     ]
    },
    {
     "name": "stderr",
     "output_type": "stream",
     "text": [
      "C:\\Users\\lauri\\AppData\\Local\\Temp\\ipykernel_3504\\1163424065.py:2: FutureWarning: The default value of regex will change from True to False in a future version. In addition, single character regular expressions will *not* be treated as literal strings when regex=True.\n",
      "  df['price'] = df['price'].str.replace('$', '')\n"
     ]
    }
   ],
   "source": [
    "# Poistetaan price-sarakkeen ylim. merkit ja muunnetaan se float-tyypiseksi\n",
    "df['price'] = df['price'].str.replace('$', '')\n",
    "df['price'] = df['price'].str.replace(',', '')\n",
    "df['price'] = df['price'].astype(float)\n",
    "df.info()"
   ]
  },
  {
   "cell_type": "code",
   "execution_count": 82,
   "metadata": {},
   "outputs": [
    {
     "data": {
      "text/plain": [
       "<AxesSubplot:xlabel='review_scores_rating', ylabel='price'>"
      ]
     },
     "execution_count": 82,
     "metadata": {},
     "output_type": "execute_result"
    },
    {
     "data": {
      "image/png": "[encoded data removed]",
      "text/plain": [
       "<Figure size 720x720 with 1 Axes>"
      ]
     },
     "metadata": {
      "needs_background": "light"
     },
     "output_type": "display_data"
    }
   ],
   "source": [
    "# Hahmotellaan valitut muutujat kuvaajaan\n",
    "fig = plt.subplots(figsize=(10,10))\n",
    "sns.regplot(x='review_scores_rating',y='price',data=df)"
   ]
  }
 ],
 "metadata": {
  "kernelspec": {
   "display_name": "Python 3.9.7 ('base')",
   "language": "python",
   "name": "python3"
  },
  "language_info": {
   "codemirror_mode": {
    "name": "ipython",
    "version": 3
   },
   "file_extension": ".py",
   "mimetype": "text/x-python",
   "name": "python",
   "nbconvert_exporter": "python",
   "pygments_lexer": "ipython3",
   "version": "3.9.7"
  },
  "orig_nbformat": 4,
  "vscode": {
   "interpreter": {
    "hash": "7fa34090cb7af4223176c3ba8ae08a175f6370c1b6c642f4e551f736b02987b0"
   }
  }
 },
 "nbformat": 4,
 "nbformat_minor": 2
}
